{
 "cells": [
  {
   "cell_type": "markdown",
   "metadata": {
    "id": "pDrecLU-4QjS"
   },
   "source": [
    "# Практика"
   ]
  },
  {
   "cell_type": "markdown",
   "metadata": {
    "id": "gUvTNDlMaV-a"
   },
   "source": [
    "## Определение вероятности. События\n",
    "\n",
    "Требуется сгенерировать необходимые выборки и произвести по ним расчеты"
   ]
  },
  {
   "cell_type": "code",
   "execution_count": 3,
   "metadata": {
    "id": "88Iw-SL3jYQV"
   },
   "outputs": [],
   "source": [
    "import pandas as pd\n",
    "import numpy as np\n",
    "import matplotlib.pyplot as plt\n",
    "import scipy.stats as sts\n",
    "import random as random\n",
    "%matplotlib inline"
   ]
  },
  {
   "cell_type": "markdown",
   "metadata": {
    "id": "5V70InEBTgup"
   },
   "source": [
    "### Задача 1\n",
    "Брошено две монеты. Найти вероятность того, что монеты выпали разными сторонами"
   ]
  },
  {
   "cell_type": "code",
   "execution_count": 43,
   "metadata": {},
   "outputs": [
    {
     "data": {
      "text/plain": [
       "0.50032"
      ]
     },
     "execution_count": 43,
     "metadata": {},
     "output_type": "execute_result"
    }
   ],
   "source": [
    "# 1 вариант\n",
    "N = 1000000\n",
    "df = pd.DataFrame(columns = ['coin1', 'coin2'])\n",
    "coin1 = sts.bernoulli(.5)\n",
    "coin2= sts.bernoulli(.5)\n",
    "df['coin1'] = coin1.rvs(N)\n",
    "df['coin2'] = coin2.rvs(N)\n",
    "\n",
    "p = len(df[df['coin1']!= df['coin2'] ])/len(df)"
   ]
  },
  {
   "cell_type": "code",
   "execution_count": 23,
   "metadata": {},
   "outputs": [
    {
     "data": {
      "text/plain": [
       "0.499928"
      ]
     },
     "execution_count": 23,
     "metadata": {},
     "output_type": "execute_result"
    }
   ],
   "source": [
    "# 2 вариант\n",
    "N = 1000000\n",
    "coin = 0  \n",
    "\n",
    "for i in range(0,1000000):\n",
    "    coin1 = random.choice(['орел', 'решка'])\n",
    "    coin2 = random.choice(['орел', 'решка'])\n",
    "    if coin1 !=  coin2 :\n",
    "        coin = coin + 1\n",
    "p = coin / N\n",
    "p"
   ]
  },
  {
   "cell_type": "code",
   "execution_count": 14,
   "metadata": {},
   "outputs": [
    {
     "data": {
      "text/plain": [
       "0.500302"
      ]
     },
     "execution_count": 14,
     "metadata": {},
     "output_type": "execute_result"
    }
   ],
   "source": [
    "# 3 вариант\n",
    "elements = np.array(['орел','решка'])\n",
    "probabilities = [0.5, 0.5]\n",
    "N = 1000000 \n",
    "coins = np.random.choice(elements, N, p = probabilities)\n",
    "df = pd.DataFrame(coins, columns = ['coins'])\n",
    "p = len(df.query('coins == \"орел\"')) / len(df)\n",
    "p"
   ]
  },
  {
   "cell_type": "code",
   "execution_count": 24,
   "metadata": {},
   "outputs": [
    {
     "data": {
      "text/plain": [
       "0.504"
      ]
     },
     "execution_count": 24,
     "metadata": {},
     "output_type": "execute_result"
    }
   ],
   "source": [
    "# 4 вариант\n",
    "n = 1\n",
    "p =  .5\n",
    "size = 1000\n",
    "coin = np.random.binomial(n, p, size = size)\n",
    "len(coin[coin==1])/len(coin)"
   ]
  },
  {
   "cell_type": "markdown",
   "metadata": {
    "id": "t0XOMos2Tl0e"
   },
   "source": [
    "### Задача 2\n",
    "Брошено три монеты. Описать множество всех элементарных событий. Найти вероятности следующих событий:\n",
    "\n",
    "\n",
    "1.   A = {не выпало ни одного герба}\n",
    "2.   B = {выпало четное число гербов}\n",
    "3.   C = {на третьей монете выпал герб}\n"
   ]
  },
  {
   "cell_type": "code",
   "execution_count": 2,
   "metadata": {
    "id": "o7NjAE9uUo-L"
   },
   "outputs": [
    {
     "data": {
      "text/plain": [
       "array(['R', 'H', 'H', ..., 'R', 'R', 'R'], dtype='<U1')"
      ]
     },
     "execution_count": 2,
     "metadata": {},
     "output_type": "execute_result"
    }
   ],
   "source": [
    "ALL = {RRR,HHH,RHH,RHR,HRH,HRR,HHR,RRH} #все возможные события\n",
    "A = {RRR}\n",
    "B = {RHH,HRH,HHR}\n",
    "C = {HHH,RHH,RRH,HRH}\n"
   ]
  },
  {
   "cell_type": "code",
   "execution_count": 35,
   "metadata": {},
   "outputs": [],
   "source": [
    "elements = np.array(['H','R'])\n",
    "probabilities = [0.5, 0.5]\n",
    "N = 1000000 \n",
    "coin1 = np.random.choice(elements, N, p = probabilities)\n",
    "coin2 = np.random.choice(elements, N, p = probabilities)\n",
    "coin3 = np.random.choice(elements, N, p = probabilities)"
   ]
  },
  {
   "cell_type": "code",
   "execution_count": 5,
   "metadata": {},
   "outputs": [
    {
     "data": {
      "text/plain": [
       "0.125173"
      ]
     },
     "execution_count": 5,
     "metadata": {},
     "output_type": "execute_result"
    }
   ],
   "source": [
    "# A = {не выпало ни одного герба}\n",
    "\n",
    "df = pd.DataFrame(zip(coin1, coin2, coin3), columns = ['coin1','coin2','coin3'])\n",
    "p = len(df.query('coin1==coin2==coin3==\"R\"'))/len(df)\n",
    "p"
   ]
  },
  {
   "cell_type": "code",
   "execution_count": 37,
   "metadata": {},
   "outputs": [
    {
     "data": {
      "text/plain": [
       "0.374482"
      ]
     },
     "execution_count": 37,
     "metadata": {},
     "output_type": "execute_result"
    }
   ],
   "source": [
    "# B = {выпало четное число гербов}\n",
    "df = pd.DataFrame(zip(coin1, coin2, coin3), columns = ['coin1','coin2','coin3'])\n",
    "p = len(df.query('coin1==coin2==\"H\" | coin1==coin3==\"H\" | coin2==coin3==\"H\" & coin1!=coin2!=coin3'))/len(df)\n",
    "p"
   ]
  },
  {
   "cell_type": "code",
   "execution_count": 6,
   "metadata": {},
   "outputs": [
    {
     "data": {
      "text/plain": [
       "0.5004"
      ]
     },
     "execution_count": 6,
     "metadata": {},
     "output_type": "execute_result"
    }
   ],
   "source": [
    "# C = {на третьей монете выпал герб}\n",
    "\n",
    "p = len(df.query('coin3==\"H\"'))/len(df)\n",
    "p"
   ]
  },
  {
   "cell_type": "markdown",
   "metadata": {},
   "source": [
    "Предлагается также решить задачи: \n",
    "\n",
    "### Задача 3\n",
    "Из двух претендентов E и L на ответственную должность три члена комиссии должны отобрать одного. Каждый член комиссии должен указать либо одного достойного, либо забраковать обоих. Претендент считается выбранным, если он был признана достойным хотя бы двумя членами комиссии.\n",
    "Найти вероятность событий:\n",
    "\n",
    "A = {рекомендован L}, B = {рекомендован E}\n"
   ]
  },
  {
   "cell_type": "code",
   "execution_count": null,
   "metadata": {},
   "outputs": [],
   "source": []
  },
  {
   "cell_type": "markdown",
   "metadata": {
    "id": "peM38mVfYa5B"
   },
   "source": [
    "### Задача 4\n",
    "Брошено две игральных кости. Описать множество элементарных событий. Найти вероятности событий:\n",
    "\n",
    "A = {вышло две \"шестерки\"}\n",
    "\n",
    "B = {сумма выпавших очков не меньше 11}\n",
    "\n",
    "C = {не выпала ни одна \"шестерка\"}"
   ]
  },
  {
   "cell_type": "code",
   "execution_count": null,
   "metadata": {},
   "outputs": [],
   "source": [
    "ALL = {11,12,13,14,15,16,21,22,23,24,25,26,31,32,33,34,35,36,41,42,43,44,45,46,51,52,53,54,55,56,61,62,63,64,65,66}\n",
    "A = {66}\n",
    "B = {56,65,66}\n",
    "C = {11,12,13,14,15,21,22,23,24,25,31,32,33,34,35,41,42,43,44,45,51,52,53,54,55}"
   ]
  },
  {
   "cell_type": "code",
   "execution_count": 4,
   "metadata": {},
   "outputs": [
    {
     "data": {
      "text/plain": [
       "0.027623"
      ]
     },
     "execution_count": 4,
     "metadata": {},
     "output_type": "execute_result"
    }
   ],
   "source": [
    "# A = {вышло две \"шестерки\"}\n",
    "\n",
    "N = 1000000 \n",
    "r1 = np.random.randint(1,7,size=N, dtype=int)\n",
    "r2 = np.random.randint(1,7,size=N, dtype=int)\n",
    "\n",
    "df = pd.DataFrame(zip(r1,r2), columns = ['kub1','kub2'])\n",
    "p = len(df.query('kub1==kub2==6'))/len(df)\n",
    "p"
   ]
  },
  {
   "cell_type": "code",
   "execution_count": 5,
   "metadata": {},
   "outputs": [
    {
     "data": {
      "text/plain": [
       "0.083219"
      ]
     },
     "execution_count": 5,
     "metadata": {},
     "output_type": "execute_result"
    }
   ],
   "source": [
    "#B = {сумма выпавших очков не меньше 11}\n",
    "p = len(df.query('kub1+kub2>=11'))/len(df)\n",
    "p"
   ]
  },
  {
   "cell_type": "code",
   "execution_count": 6,
   "metadata": {},
   "outputs": [
    {
     "data": {
      "text/plain": [
       "0.694803"
      ]
     },
     "execution_count": 6,
     "metadata": {},
     "output_type": "execute_result"
    }
   ],
   "source": [
    "# C = {не выпала ни одна \"шестерка\"}\n",
    "p = len(df.query('kub1!=6 & kub2!=6'))/len(df)\n",
    "p"
   ]
  },
  {
   "cell_type": "markdown",
   "metadata": {
    "id": "f-Bi0p8haclB"
   },
   "source": [
    "## Вероятность суммы событий"
   ]
  },
  {
   "cell_type": "markdown",
   "metadata": {
    "id": "g7A7QlvGTnwZ"
   },
   "source": [
    "### Задача 5\n",
    "Брошены две игральные кости. Найти вероятность события D = {выпала хотя бы одна шестёрка}\n",
    "\n",
    "\n"
   ]
  },
  {
   "cell_type": "code",
   "execution_count": 7,
   "metadata": {
    "id": "vjtTJN-kUp9D"
   },
   "outputs": [
    {
     "data": {
      "text/plain": [
       "0.305197"
      ]
     },
     "execution_count": 7,
     "metadata": {},
     "output_type": "execute_result"
    }
   ],
   "source": [
    "N = 1000000 \n",
    "r1 = np.random.randint(1,7,size=N, dtype=int)\n",
    "r2 = np.random.randint(1,7,size=N, dtype=int)\n",
    "p = len(df.query('kub1==6 | kub2==6'))/len(df)\n",
    "p"
   ]
  },
  {
   "cell_type": "markdown",
   "metadata": {
    "id": "R1bYSzQQbC6I"
   },
   "source": [
    "Предлагается также решить задачи: \n",
    "\n",
    "### Задача 6\n",
    "В телефонном номере три последние цифры стерлись. Считая, что все возможные значения стершихся цифр равновероятны, найти вероятность событий:\n",
    "\n",
    "A = {Стерлись различные цифры},\n",
    "\n",
    "B = {Стерлись одинаковые цифры},\n",
    "\n",
    "C = {Среди стершихся цифр хотя бы две совпадают},\n",
    "\n",
    "D = {Среди стершихся цифр хотя бы две различны}\n"
   ]
  },
  {
   "cell_type": "code",
   "execution_count": 9,
   "metadata": {},
   "outputs": [],
   "source": [
    "N = 1000000 \n",
    "n1 = np.random.randint(0,10,size=N, dtype=int)\n",
    "n2 = np.random.randint(0,10,size=N, dtype=int)\n",
    "n3 = np.random.randint(0,10,size=N, dtype=int)\n"
   ]
  },
  {
   "cell_type": "code",
   "execution_count": 10,
   "metadata": {},
   "outputs": [
    {
     "data": {
      "text/plain": [
       "0.719601"
      ]
     },
     "execution_count": 10,
     "metadata": {},
     "output_type": "execute_result"
    }
   ],
   "source": [
    "#A = {Стерлись различные цифры}\n",
    "\n",
    "df = pd.DataFrame(zip(n1, n2, n3), columns = ['number1','number2','number3'])\n",
    "p = len(df.query('number1!=number2 & number1!=number3 & number2!=number3'))/len(df)\n",
    "p"
   ]
  },
  {
   "cell_type": "code",
   "execution_count": 11,
   "metadata": {},
   "outputs": [
    {
     "data": {
      "text/plain": [
       "0.010173"
      ]
     },
     "execution_count": 11,
     "metadata": {},
     "output_type": "execute_result"
    }
   ],
   "source": [
    "# B = {Стерлись одинаковые цифры}\n",
    "df = pd.DataFrame(zip(n1, n2, n3), columns = ['number1','number2','number3'])\n",
    "p = len(df.query('number1==number2==number3'))/len(df)\n",
    "p"
   ]
  },
  {
   "cell_type": "code",
   "execution_count": 12,
   "metadata": {},
   "outputs": [
    {
     "data": {
      "text/plain": [
       "0.280399"
      ]
     },
     "execution_count": 12,
     "metadata": {},
     "output_type": "execute_result"
    }
   ],
   "source": [
    "# C = {Среди стершихся цифр хотя бы две совпадают}\n",
    "\n",
    "df = pd.DataFrame(zip(n1, n2, n3), columns = ['number1','number2','number3'])\n",
    "p = len(df.query('number1==number2 | number1==number3 | number2==number3'))/len(df)\n",
    "p"
   ]
  },
  {
   "cell_type": "code",
   "execution_count": 13,
   "metadata": {},
   "outputs": [
    {
     "data": {
      "text/plain": [
       "0.989827"
      ]
     },
     "execution_count": 13,
     "metadata": {},
     "output_type": "execute_result"
    }
   ],
   "source": [
    "# D = {Среди стершихся цифр хотя бы две различны}\n",
    "\n",
    "df = pd.DataFrame(zip(n1, n2, n3), columns = ['number1','number2','number3'])\n",
    "p = len(df.query('number1!=number2 | number1!=number3 | number2!=number3'))/len(df)\n",
    "p"
   ]
  },
  {
   "cell_type": "markdown",
   "metadata": {
    "id": "RnugkR8BalK_"
   },
   "source": [
    "## Случайные величины"
   ]
  },
  {
   "cell_type": "markdown",
   "metadata": {
    "id": "yLoZDZ17UVsp"
   },
   "source": [
    "### Задача 7\n",
    "В лотерее имеется 10 билетов, из которых один выигрышный. Размер выигрыша 10 ден. ед.; стоимость билета 1 ден ед. Найти закон распределения случайной величины X, равной чистому выигрышу участника лотереи, который вытаскивает билет первым."
   ]
  },
  {
   "cell_type": "code",
   "execution_count": 16,
   "metadata": {},
   "outputs": [],
   "source": [
    "N = 10 #кол-во билетов\n",
    "V = 1 # кол-во выигравших билетов\n",
    "SUM = 10 # сумма выигрыша\n",
    "COST = 1 #стоимость билета\n",
    "values= [0, 9] # список возможных значений (проиграл либо чистый выигрыш)\n",
    "\n",
    "p_of_win =  .1 #вероятность выигрыша\n",
    "p_of_lose = 1-p_of_win #вероятность проигрыша\n",
    "probabilities = [p_of_lose, p_of_win]"
   ]
  },
  {
   "cell_type": "code",
   "execution_count": 17,
   "metadata": {
    "id": "oNk432sKUqzT"
   },
   "outputs": [
    {
     "data": {
      "text/plain": [
       "array([9, 0, 0, 0, 0, 0, 0, 0, 0, 0])"
      ]
     },
     "execution_count": 17,
     "metadata": {},
     "output_type": "execute_result"
    }
   ],
   "source": [
    "elements = np.random.choice(values, N, p=probabilities)\n",
    "                          \n",
    "elements"
   ]
  },
  {
   "cell_type": "code",
   "execution_count": 18,
   "metadata": {},
   "outputs": [
    {
     "data": {
      "text/plain": [
       "[0, 0, 0, 9, 0, 0, 0, 9, 9, 0]"
      ]
     },
     "execution_count": 18,
     "metadata": {},
     "output_type": "execute_result"
    }
   ],
   "source": [
    "# 1 вариант\n",
    "rez_table = list(map(lambda x: \n",
    "                np.random.choice(values, 1, p= probabilities)[0]\n",
    "                if x == elements[0] \n",
    "                else np.random.choice(values, 1, p=probabilities)[0],\n",
    "                elements))\n",
    "rez_table"
   ]
  },
  {
   "cell_type": "code",
   "execution_count": 22,
   "metadata": {},
   "outputs": [],
   "source": [
    "# 2 вариант\n",
    "def test_table(elements, values = values):\n",
    "    rez_table = []\n",
    "    for n in range(N):\n",
    "        if elements[n] == values[0]:\n",
    "            rez_table.append(np.random.choice(values, 1, p= probabilities)[0])\n",
    "        elif elements[n] == values[1]:\n",
    "            rez_table.append(np.random.choice(values, 1, p=probabilities)[0])\n",
    "    return rez_table"
   ]
  },
  {
   "cell_type": "code",
   "execution_count": 26,
   "metadata": {},
   "outputs": [
    {
     "data": {
      "text/plain": [
       "[0, 0, 9, 0, 0, 0, 0, 0, 0, 0]"
      ]
     },
     "execution_count": 26,
     "metadata": {},
     "output_type": "execute_result"
    }
   ],
   "source": [
    "\n",
    "rez_table =  test_table(elements, values = values)\n",
    "rez_table"
   ]
  },
  {
   "cell_type": "code",
   "execution_count": 27,
   "metadata": {},
   "outputs": [
    {
     "data": {
      "text/html": [
       "<div>\n",
       "<style scoped>\n",
       "    .dataframe tbody tr th:only-of-type {\n",
       "        vertical-align: middle;\n",
       "    }\n",
       "\n",
       "    .dataframe tbody tr th {\n",
       "        vertical-align: top;\n",
       "    }\n",
       "\n",
       "    .dataframe thead th {\n",
       "        text-align: right;\n",
       "    }\n",
       "</style>\n",
       "<table border=\"1\" class=\"dataframe\">\n",
       "  <thead>\n",
       "    <tr style=\"text-align: right;\">\n",
       "      <th></th>\n",
       "      <th>values</th>\n",
       "      <th>probabilities</th>\n",
       "    </tr>\n",
       "  </thead>\n",
       "  <tbody>\n",
       "    <tr>\n",
       "      <th>0</th>\n",
       "      <td>0</td>\n",
       "      <td>0.9</td>\n",
       "    </tr>\n",
       "    <tr>\n",
       "      <th>1</th>\n",
       "      <td>9</td>\n",
       "      <td>0.1</td>\n",
       "    </tr>\n",
       "  </tbody>\n",
       "</table>\n",
       "</div>"
      ],
      "text/plain": [
       "   values  probabilities\n",
       "0       0            0.9\n",
       "1       9            0.1"
      ]
     },
     "execution_count": 27,
     "metadata": {},
     "output_type": "execute_result"
    }
   ],
   "source": [
    "df = pd.DataFrame(columns = ['values', 'probabilities'])\n",
    "df['values'] = values\n",
    "df['probabilities'] = probabilities\n",
    "df.head(10)"
   ]
  },
  {
   "cell_type": "code",
   "execution_count": 28,
   "metadata": {},
   "outputs": [
    {
     "data": {
      "image/png": "[encoded data removed]",
      "text/plain": [
       "<Figure size 720x360 with 1 Axes>"
      ]
     },
     "metadata": {
      "needs_background": "light"
     },
     "output_type": "display_data"
    }
   ],
   "source": [
    "plt.figure(figsize=(10,5))\n",
    "ax = plt.bar(values, probabilities)\n",
    "plt.xlabel('Сумма выигрыша')\n",
    "plt.ylabel('Вероятность')\n",
    "plt.show()    "
   ]
  },
  {
   "cell_type": "markdown",
   "metadata": {
    "id": "U-NK9liSbpvb"
   },
   "source": [
    "Предлагается также решить задачу: \n",
    "\n",
    "### Задача 8\n",
    "Брошены две игральные кости. Найти закон распределения случайной величины $X$, равной сумме выпавших очков. Найти вероятности событий ${X <= 4}$, ${X > 4}$"
   ]
  },
  {
   "cell_type": "code",
   "execution_count": 63,
   "metadata": {},
   "outputs": [],
   "source": [
    "values = [2,3,4,5,6,7,8,9,10,11,12]\n",
    "variation = 6**2\n",
    "Sum_2 = {11}\n",
    "Sum_3 = {12,21}\n",
    "Sum_4 = {13,31,22}\n",
    "Sum_5 = {14,41,23,32}\n",
    "Sum_6 = {15,51,24,42,33}\n",
    "Sum_7 = {16,61,25,52,34,43}\n",
    "Sum_8 = {26,62,35,53,44}\n",
    "Sum_9 = {36,63,45,54}\n",
    "Sum_10 ={46,64,55}\n",
    "Sum_11 ={56,65}\n",
    "Sum_12 ={66}\n"
   ]
  },
  {
   "cell_type": "code",
   "execution_count": 84,
   "metadata": {},
   "outputs": [
    {
     "data": {
      "text/plain": [
       "values           11\n",
       "variations       11\n",
       "probabilities    11\n",
       "dtype: int64"
      ]
     },
     "execution_count": 84,
     "metadata": {},
     "output_type": "execute_result"
    }
   ],
   "source": [
    "df = pd.DataFrame(columns = ['values', 'variations','probabilities'])\n",
    "df['values'] = values\n",
    "df['variations'] = [1,2,3,4,5,6,5,4,3,2,1]\n",
    "df['probabilities'] = (df.variations / variation).round(2)\n",
    "df.count()"
   ]
  },
  {
   "cell_type": "code",
   "execution_count": 87,
   "metadata": {},
   "outputs": [
    {
     "data": {
      "image/png": "[encoded data removed]",
      "text/plain": [
       "<Figure size 720x360 with 1 Axes>"
      ]
     },
     "metadata": {
      "needs_background": "light"
     },
     "output_type": "display_data"
    }
   ],
   "source": [
    "plt.figure(figsize=(10,5))\n",
    "ax = plt.bar(df['values'], df['probabilities'])\n",
    "plt.xlabel('Сумма выпавших очков')\n",
    "plt.ylabel('Вероятность')\n",
    "plt.show()  "
   ]
  },
  {
   "cell_type": "code",
   "execution_count": 74,
   "metadata": {},
   "outputs": [
    {
     "data": {
      "text/plain": [
       "0.222339"
      ]
     },
     "execution_count": 74,
     "metadata": {},
     "output_type": "execute_result"
    }
   ],
   "source": [
    "# вероятности событий  𝑋<=4 ,  𝑋>4\n",
    "N = 1000000 \n",
    "r1 = np.random.randint(1,7,size=N, dtype=int)\n",
    "r2 = np.random.randint(1,7,size=N, dtype=int)\n",
    "df = pd.DataFrame(zip(r1,r2), columns = ['kub1','kub2'])\n",
    "p = len(df.query('kub1<=4 & kub2>4'))/len(df)\n",
    "p"
   ]
  },
  {
   "cell_type": "markdown",
   "metadata": {
    "id": "shgW4D83awjK"
   },
   "source": [
    "## Условные вероятности"
   ]
  },
  {
   "cell_type": "markdown",
   "metadata": {
    "id": "Fbu1RFZwWZrk"
   },
   "source": [
    "### Задача 9\n",
    "Из колоды (36 карт) вынимают последовательно без возвращения две карты. Найти вероятность того, что первой картой была шестерка, а второй — семерка. Найти условную вероятность того же события при условии, что обе карты бубновой масти.\n"
   ]
  },
  {
   "cell_type": "code",
   "execution_count": 82,
   "metadata": {},
   "outputs": [
    {
     "data": {
      "text/plain": [
       "0.011891989198919891"
      ]
     },
     "execution_count": 82,
     "metadata": {},
     "output_type": "execute_result"
    }
   ],
   "source": [
    "elements = np.array(['6pic','7pic', '8pic','9pic','10pic','Vpic','Dpic','Kpic','Tpic','6bub','7bub','8bub','9bub','10bub','Vbub','Dbub','Kbub','Tbub','6tref','7tref','8tref','9tref','10tref','Vtref','Dtref','Ktref','Ttref','6ch','7ch','8ch','9ch','10ch','Vch','Dch','Kch','Tch'])\n",
    "kart1 = np.random.choice(elements, 10000)\n",
    "kart2 = np.random.choice(elements, 10000)\n",
    "\n",
    "df = pd.DataFrame(zip(kart1,kart2), columns = ['kart1','kart2'])\n",
    "\n",
    "\n",
    "p1 = len(df.query('kart1==\"6pic\" | kart1==\"6bub\" | kart1==\"6tref\" | kart1==\"6ch\"'))/len(df)\n",
    "p2 = len(df.query('kart2==\"7pic\" | kart2==\"7bub\" | kart2==\"7tref\" | kart2==\"7ch\"'))/(len(df)-1)\n",
    "p = p1*p2\n",
    "p # вероятность того, что первая карта шестерка, а вторая семерка"
   ]
  },
  {
   "cell_type": "code",
   "execution_count": 86,
   "metadata": {},
   "outputs": [
    {
     "data": {
      "text/plain": [
       "0.000704950495049505"
      ]
     },
     "execution_count": 86,
     "metadata": {},
     "output_type": "execute_result"
    }
   ],
   "source": [
    "# вероятность того что обе карты бубновой масти\n",
    "p3 = len(df.query('kart1==\"6bub\" ')) / len(df)\n",
    "p4 = len(df.query('kart2==\"7bub\"')) / (len(df)-1)\n",
    "p5 = p3*p4\n",
    "p5"
   ]
  },
  {
   "cell_type": "markdown",
   "metadata": {},
   "source": [
    "## Какой-то топорный и неверный способ, но я так и не смогла решить эту задачу через функцию, поэтому я буду очень признательна, если вы мне дадите обратную связь и подсказку, т.к. я потратила очень много времени!!! ниже привожу то, что смогла написать с пояснениями. Посмотрите, пожалуйста."
   ]
  },
  {
   "cell_type": "markdown",
   "metadata": {},
   "source": [
    "## Ниже сгенерировала колоду. Перевела в одномерный массив, т.к. выходила ошибка при использовании функции np.random.choice  что массив должен быть одномерный. "
   ]
  },
  {
   "cell_type": "code",
   "execution_count": 91,
   "metadata": {
    "id": "037o56awW9-E"
   },
   "outputs": [],
   "source": [
    "masts = ['pic', 'bub', 'tref' ,'cherv'] \n",
    "faces = ['6', '7', '8', '9', '10' ,'valet', 'dama', 'korol', 'tuz']\n",
    "cards = []\n",
    "for mast in masts:\n",
    "    for face in faces:\n",
    "        for i in range(1):\n",
    "            cards.append((mast,face))\n",
    "df = pd.DataFrame(cards)\n",
    "cards2=df[0] + df[1]\n",
    "\n",
    "\n",
    "#Чтобы достать карту:\n",
    "selection = np.random.randint(0, len(cards2)-1, 2) #на выходе индексы элементов"
   ]
  },
  {
   "cell_type": "markdown",
   "metadata": {},
   "source": [
    "## Ниже - вроде все работает. Формируются 2 карты (selection), извлеченных из колоды и оставшаяся колода карт (cards2). Далее пытаюсь применить эти функции и сделать выборку по условиям, но у меня ничего не получается."
   ]
  },
  {
   "cell_type": "code",
   "execution_count": 40,
   "metadata": {},
   "outputs": [
    {
     "name": "stdout",
     "output_type": "stream",
     "text": [
      "Got the karts ['pictuz', 'picvalet']\n"
     ]
    }
   ],
   "source": [
    "def delete_kart(cards2):\n",
    "    index = random.randint(0, len(cards2)-1)\n",
    "    selection = cards2.pop(index)\n",
    "    return selection, cards2\n",
    "karts = []\n",
    "for i in range(2):  # n - число доставаемых карт\n",
    "    selection, cards2 = delete_kart(cards2)\n",
    "    karts.append(selection)\n",
    "print ('Got the karts', karts)\n"
   ]
  },
  {
   "cell_type": "code",
   "execution_count": 54,
   "metadata": {},
   "outputs": [
    {
     "name": "stderr",
     "output_type": "stream",
     "text": [
      "<ipython-input-54-0615969af70f>:26: FutureWarning: elementwise comparison failed; returning scalar instead, but in the future will perform elementwise comparison\n",
      "  if selection[0]==cards[face==6]:\n"
     ]
    },
    {
     "name": "stdout",
     "output_type": "stream",
     "text": [
      "Probability: 0.0\n"
     ]
    }
   ],
   "source": [
    "def draw_ball(cards2):\n",
    "    index = random.randint(0, len(cards2)-1)\n",
    "    selection = cards2.pop(index)\n",
    "    return selection, cards2\n",
    "\n",
    "def new_hat():\n",
    "    masts = ['pic', 'bub', 'tref' ,'cherv'] \n",
    "    faces = ['6', '7', '8', '9', '10' ,'valet', 'dama', 'korol', 'tuz']\n",
    "    cards = []\n",
    "    for mast in masts:\n",
    "        for face in faces:\n",
    "            for i in range(1):\n",
    "                cards.append((mast,face))\n",
    "        return cards\n",
    "df = pd.DataFrame(cards)\n",
    "cards2=df[0] + df[1]\n",
    "\n",
    "n = 2\n",
    "N = 100000\n",
    "\n",
    "M = 0\n",
    "for e in range(N):\n",
    "    cards2 = new_hat()\n",
    "    balls = []\n",
    "    for i in range(n):\n",
    "        if selection[0]==??????:\n",
    "            selection, cards2 = draw_ball(cards2)\n",
    "            balls.append(selection)\n",
    "            M += 1\n",
    "\n",
    "        \n",
    "print ('Probability:', float(M)/N)"
   ]
  },
  {
   "cell_type": "markdown",
   "metadata": {
    "id": "hNVxtaz5c57b"
   },
   "source": [
    "Предлагается также решить задачу: \n",
    "\n",
    "### Задача 10\n",
    "Из урны, содержащей два белых и три черных шара, последовательно извлекают два шара; вынутые шары не возвращаются. Если первый шар оказался черным, то перед вторым извлечением в урну добавляют белый шар. В противном случае состав оставшихся шаров не меняют. Найти вероятности событий:\n",
    "\n",
    "$A$ = {извлечены два белых шара},\n",
    "\n",
    "$B$ = {извлечены два черных шара}\n",
    "\n",
    "Указание. Пусть событие $C_1$ = {первый шар белый}, событие $C_2$ = {второй шар белый}. Тогда $A = C_1C_2$, $B = \\overline C_1 \\overline C_2$ "
   ]
  },
  {
   "cell_type": "code",
   "execution_count": 128,
   "metadata": {},
   "outputs": [
    {
     "data": {
      "text/plain": [
       "array(['white', 'black', 'white', 'white', 'black'], dtype='<U5')"
      ]
     },
     "execution_count": 128,
     "metadata": {},
     "output_type": "execute_result"
    }
   ],
   "source": [
    "colors = np.array(['white','black'])\n",
    "np.random.choice(colors, 5)"
   ]
  },
  {
   "cell_type": "code",
   "execution_count": 150,
   "metadata": {},
   "outputs": [
    {
     "data": {
      "text/plain": [
       "['white', 'white', 'black', 'black', 'black']"
      ]
     },
     "execution_count": 150,
     "metadata": {},
     "output_type": "execute_result"
    }
   ],
   "source": [
    "def new_hat():\n",
    "    colors = 'white','black'\n",
    "    hat = []\n",
    "    for color in colors:\n",
    "        for i in range(2):\n",
    "            if color == 'white':\n",
    "                hat.append(color)\n",
    "        for i in range(3):\n",
    "            if color == 'black':\n",
    "                hat.append(color)\n",
    "    return hat\n",
    "\n",
    "hat = new_hat()\n",
    "hat"
   ]
  },
  {
   "cell_type": "code",
   "execution_count": 151,
   "metadata": {},
   "outputs": [
    {
     "data": {
      "text/plain": [
       "('black', ['white', 'white', 'black', 'black', 'white'])"
      ]
     },
     "execution_count": 151,
     "metadata": {},
     "output_type": "execute_result"
    }
   ],
   "source": [
    "def draw_ball(hat):\n",
    "    color = np.random.choice(hat)\n",
    "    if color == 'white':\n",
    "        hat.remove(color)\n",
    "    elif color == 'black':\n",
    "        hat.remove(color)\n",
    "        hat.append('white')\n",
    "    return color, hat\n",
    "hat = draw_ball(hat)\n",
    "hat"
   ]
  },
  {
   "cell_type": "code",
   "execution_count": 152,
   "metadata": {},
   "outputs": [
    {
     "name": "stdout",
     "output_type": "stream",
     "text": [
      "How many balls are to be drawn? 2\n",
      "How many experiments? 100000\n",
      "Probability: 0.10056\n",
      "Probability: 0.23755\n"
     ]
    }
   ],
   "source": [
    "n = int(input('How many balls are to be drawn? '))\n",
    "N = int(input('How many experiments? '))\n",
    "\n",
    "W = 0\n",
    "B = 0\n",
    "for e in range(N):\n",
    "    hat = new_hat()\n",
    "    balls = []\n",
    "    for i in range(n):\n",
    "        color, hat = draw_ball(hat)\n",
    "        balls.append(color)\n",
    "        if color == 'white':\n",
    "            if balls.count('white')==2:\n",
    "                W+=1\n",
    "        else:\n",
    "            #hat.append(color=='white')\n",
    "            if balls.count('black')==2:\n",
    "                B+=1\n",
    "            \n",
    "print ('Probability:', float(W)/N)\n",
    "print ('Probability:', float(B)/N)"
   ]
  }
 ],
 "metadata": {
  "colab": {
   "collapsed_sections": [],
   "name": "Практика к занятию 11.ipynb",
   "provenance": []
  },
  "kernelspec": {
   "display_name": "Python 3",
   "language": "python",
   "name": "python3"
  },
  "language_info": {
   "codemirror_mode": {
    "name": "ipython",
    "version": 3
   },
   "file_extension": ".py",
   "mimetype": "text/x-python",
   "name": "python",
   "nbconvert_exporter": "python",
   "pygments_lexer": "ipython3",
   "version": "3.8.8"
  }
 },
 "nbformat": 4,
 "nbformat_minor": 1
}
